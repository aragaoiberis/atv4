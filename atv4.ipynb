{
 "cells": [
  {
   "cell_type": "markdown",
   "metadata": {},
   "source": [
    "# Atividade 4"
   ]
  },
  {
   "cell_type": "markdown",
   "metadata": {},
   "source": [
    "**Objetivo:**  \n",
    "Desenvolver um programa em Python para *calcular as frequências naturais de vibração e os modos normais (deslocamentos relativos) de uma cadeia atômica finita com 2, 3 e 4 átomos*, incluindo interações com vizinhos mais distantes (segunda vizinhança) no último caso.\n",
    "\n",
    " \n",
    "**Instruções:**\n",
    "- Cadeia linear com 2 massas:  \n",
    "    - Modele uma cadeia com duas massas $m_1$ e $m_2$ conectadas por uma mola de constante $k$.\n",
    "    - Ambas as extremidades são livres (não ligadas a paredes).\n",
    "    - Estude os efeitos da diferença entre $m_1$ e $m_2$ nas frequências e nos deslocamentos relativos.  \n",
    "\n",
    "- Extensão para 3 massas:  \n",
    "    - Conecte três massas em linha com molas entre elas.\n",
    "    - Varie as massas e analise o comportamento vibracional do sistema.\n",
    "    - Mantenha as extremidades livres.\n",
    "\n",
    "- Extensão para 4 massas com inclusão de segunda vizinhança:  \n",
    "    - Agora, modele uma cadeia com quatro massas $m_1$, $m_2$, $m_3$, $m_4$, conectadas por molas com constante $k$ entre vizinhos imediatos.\n",
    "    - Adicione molas adicionais conectando pares de massas a duas posições de distância:\n",
    "        - Entre $m_1$ e $m_3$;\n",
    "        - Entre $m_2$ e $m_4$.\n",
    "    - Use uma constante $k’$ para as molas de segunda vizinhança (ex: $k’ = 0.2k, 0.5k,$ etc.).\n",
    "\n",
    "**Análise:**\n",
    "- Como a presença de segunda vizinhança altera as frequências naturais\n",
    "- Quais modos normais são mais afetados por essas interações adicionais.  \n",
    " \n",
    "\n",
    "**Visualizações Recomendadas:**\n",
    "- Gráficos das frequências naturais para cada configuração;\n",
    "- Visualização dos modos normais (vetores de deslocamento);\n",
    "- Comparação entre o caso com e sem interações de segunda vizinhança para 4 átomos.\n",
    "\n",
    "**Entrega Esperada:**\n",
    "- Código funcional e bem comentado\n",
    "- Gráficos claros dos resultados\n",
    "-Texto explicativo (até 300 palavras) discutindo:\n",
    "    - O efeito da variação das massas;\n",
    "    - O impacto da inclusão de segundos vizinhos;\n",
    "    - A interpretação física das modificações observadas nos modos."
   ]
  },
  {
   "cell_type": "markdown",
   "metadata": {},
   "source": [
    "###### "
   ]
  },
  {
   "cell_type": "code",
   "execution_count": 18,
   "metadata": {},
   "outputs": [],
   "source": [
    "import matplotlib.pyplot as plt\n",
    "import numpy as np\n",
    "from vpython import *"
   ]
  },
  {
   "cell_type": "markdown",
   "metadata": {},
   "source": [
    "## Montando a matriz"
   ]
  },
  {
   "cell_type": "markdown",
   "metadata": {},
   "source": [
    "$D_{j,j\\pm 1} = \\frac{-K_{j,j\\pm 1}}{m_j}$, $\\hspace{1cm}$   $D_{j, j} = \\frac{K_{j, j-1} + K_{j, j+1}}{m_j}$"
   ]
  },
  {
   "cell_type": "markdown",
   "metadata": {},
   "source": [
    "### D para n = 2"
   ]
  },
  {
   "cell_type": "code",
   "execution_count": 72,
   "metadata": {},
   "outputs": [
    {
     "name": "stdout",
     "output_type": "stream",
     "text": [
      "Matriz D: \n",
      "[[ 0.5 -0.5]\n",
      " [-1.   1. ]] \n",
      " \n",
      "Frequências: [-0.28077641  1.78077641] \n",
      " \n",
      "Modos normais: \n",
      "[[-0.78820544 -0.61541221]\n",
      " [-0.61541221  0.78820544]]\n"
     ]
    }
   ],
   "source": [
    "k, m1, m2 = 1, 2, 1 #constantes genéricas\n",
    "\n",
    "M2 = np.vstack([\n",
    "    np.full(2, 1/m1),\n",
    "    np.full(2, 1/m2)])\n",
    "\n",
    "\n",
    "D2 = np.array([[k/m1, -k/m1],\n",
    "              [-k/m2, k/m2]])\n",
    "valor, vetor = np.linalg.eigh(D2)\n",
    "print(f\"Matriz D: \\n{D2} \\n \\nFrequências: {valor} \\n \\nModos normais: \\n{vetor}\")"
   ]
  },
  {
   "cell_type": "code",
   "execution_count": null,
   "metadata": {},
   "outputs": [
    {
     "data": {
      "text/plain": [
       "array([[ 0.5, -0.5],\n",
       "       [-1. ,  1. ]])"
      ]
     },
     "execution_count": 73,
     "metadata": {},
     "output_type": "execute_result"
    }
   ],
   "source": [
    "M2 = np.vstack([\n",
    "    np.full(2, 1/m1),\n",
    "    np.full(2, 1/m2)])\n",
    "\n",
    "\n",
    "K = np.array([[k, -k],\n",
    "              [-k, k]])\n",
    "\n",
    "M2*K"
   ]
  },
  {
   "cell_type": "code",
   "execution_count": null,
   "metadata": {},
   "outputs": [],
   "source": []
  },
  {
   "cell_type": "code",
   "execution_count": null,
   "metadata": {},
   "outputs": [],
   "source": [
    "#primeiro montamos a matriz M\n",
    "massas = input(\"Qual o número de massas da cadeia?\")\n",
    "m = []\n",
    "for i in range(int(massas)): \n",
    "    m_var = input(f\"Qual a massa m{i+1}?\")\n",
    "    m.append(float(m_var))\n",
    "m = np.array(m)\n",
    "#mc = m.reshape(-1, 1)\n",
    "U = np.full((len(m), len(m)), 1)\n",
    "K = m.reshape(-1, 1)*U"
   ]
  },
  {
   "cell_type": "code",
   "execution_count": 99,
   "metadata": {},
   "outputs": [
    {
     "name": "stdout",
     "output_type": "stream",
     "text": [
      "[[1 1 1 1]\n",
      " [1 1 1 1]\n",
      " [1 1 1 1]\n",
      " [1 1 1 1]]\n",
      "[[1. 1. 1. 1.]\n",
      " [2. 2. 2. 2.]\n",
      " [3. 3. 3. 3.]\n",
      " [4. 4. 4. 4.]]\n"
     ]
    }
   ],
   "source": [
    "print(U)\n",
    "print(K)\n"
   ]
  },
  {
   "cell_type": "code",
   "execution_count": null,
   "metadata": {},
   "outputs": [
    {
     "name": "stdout",
     "output_type": "stream",
     "text": [
      "para 4 massas m_i = [1. 1. 1. 1.] e constante elástica 2.0, a matriz D é: \n",
      "[[ 1. -1.  0.  0.]\n",
      " [-2.  4. -2.  0.]\n",
      " [ 0. -3.  6. -3.]\n",
      " [ 0.  0. -4.  4.]]\n"
     ]
    }
   ],
   "source": [
    "#cria a matriz nula\n",
    "massas = int(input(\"Qual o número de massas da cadeia?\"))\n",
    "m = []\n",
    "for i in range(int(massas)): \n",
    "    m_var = input(f\"Qual a massa m{i+1}?\")\n",
    "    m.append(float(m_var))\n",
    "m = np.array(m)\n",
    "m0 = np.zeros((massas, massas))\n",
    "#agora substituimos k\n",
    "k1 = float(input(\"Qual a constante elástica k?\"))\n",
    "if massas == 2: \n",
    "    D = np.array([[k1/m[0], -k1/m[0]],\n",
    "                  [-k1/m[1], k1/m[1]]])\n",
    "else:\n",
    "    D = m0\n",
    "    for j in range(n):\n",
    "        # Diagonal\n",
    "        Ke = K[j, j-1] if j > 0 else 0  # K_{j,j-1} (0 at boundary)\n",
    "        Kd = K[j, j+1] if j < n-1 else 0  # K_{j,j+1} (0 at boundary)\n",
    "        D[j, j] = (Ke + Kd) / m[j]\n",
    "\n",
    "        # Off-diagonal elements D_{j,j±1}\n",
    "        if j > 0:\n",
    "            D[j, j-1] = -K[j, j-1] / m[j]  # D_{j,j-1}\n",
    "        if j < n-1:\n",
    "            D[j, j+1] = -K[j, j+1] / m[j]  # D_{j,j+1}\n",
    "\n",
    " \n",
    "\n",
    "\n",
    "print(f\"para {massas} massas m_i = {m} e constante elástica k={k1}, a matriz D é: \\n{D}\")\n",
    "  \n"
   ]
  },
  {
   "cell_type": "code",
   "execution_count": 133,
   "metadata": {},
   "outputs": [
    {
     "name": "stdout",
     "output_type": "stream",
     "text": [
      "para 6 massas m_i = [1. 1. 1. 1. 1. 1.] e constante elástica k=3.0, a matriz D é: \n",
      "[[ 3. -3.  0.  0.  0.  0.]\n",
      " [-3. -6. -3.  0.  0.  0.]\n",
      " [ 0. -3. -6. -3.  0.  0.]\n",
      " [ 0.  0. -3.  3.  0.  0.]\n",
      " [ 0.  0.  0.  0.  0.  0.]\n",
      " [ 0.  0.  0.  0.  0.  0.]]\n"
     ]
    }
   ],
   "source": [
    "#cria a matriz nula\n",
    "massas = int(input(\"Qual o número de massas da cadeia?\"))\n",
    "m = []\n",
    "for i in range(int(massas)): \n",
    "    m_var = input(f\"Qual a massa m{i+1}?\")\n",
    "    m.append(float(m_var))\n",
    "m = np.array(m)\n",
    "m0 = np.zeros((massas, massas))\n",
    "#agora substituimos k\n",
    "k1 = float(input(\"Qual a constante elástica k?\"))\n",
    "if massas == 2: \n",
    "    D = np.array([[k1/m[0], -k1/m[0]],\n",
    "                  [-k1/m[1], k1/m[1]]])\n",
    "else:\n",
    "    D = m0\n",
    "    for k in range(n-1):\n",
    "        D[k, k+1] = -k1/m[k]\n",
    "        D[k+1, k] = -k1/m[k+1]\n",
    "\n",
    "    for j in range(n):\n",
    "        if j == 0 or j == n-1:\n",
    "            D[j, j] = k1/m[j]\n",
    "        else:\n",
    "            D[j, j] = (D[j, j-1] + D[j, j+1])/m[j]\n",
    "newD = D        \n",
    "    \n",
    " \n",
    "\n",
    "\n",
    "print(f\"para {massas} massas m_i = {m} e constante elástica k={k1}, a matriz D é: \\n{newD}\")"
   ]
  },
  {
   "cell_type": "markdown",
   "metadata": {},
   "source": [
    "### Para n = 3"
   ]
  },
  {
   "cell_type": "code",
   "execution_count": 51,
   "metadata": {},
   "outputs": [
    {
     "name": "stdout",
     "output_type": "stream",
     "text": [
      "Matriz D: \n",
      "[[ 1. -1.  0.]\n",
      " [-1.  1.  0.]\n",
      " [ 0. -1.  1.]] \n",
      " \n",
      "Frequências: [-0.41421356  1.          2.41421356] \n",
      " \n",
      "Modos normais: \n",
      "[[ 5.00000000e-01 -7.07106781e-01 -5.00000000e-01]\n",
      " [ 7.07106781e-01  1.00272123e-16  7.07106781e-01]\n",
      " [ 5.00000000e-01  7.07106781e-01 -5.00000000e-01]]\n"
     ]
    }
   ],
   "source": [
    "k, m1, m2, m3 = 1, 1, 1, 1 #constantes genéricas\n",
    "\n",
    "M3 = np.vstack([np.full(n, m1),\n",
    "                np.full(n, m2),\n",
    "                np.full(n, m3)])\n",
    "\n",
    "D3 = np.array([[k/m1, -k/m1, 0],\n",
    "               [-k/m2, k/m2, 0],\n",
    "               [0, -k/m3, k/m3]])\n",
    "valor, vetor = np.linalg.eigh(D3)\n",
    "print(f\"Matriz D: \\n{D3} \\n \\nFrequências: {valor} \\n \\nModos normais: \\n{vetor}\")"
   ]
  },
  {
   "cell_type": "code",
   "execution_count": 52,
   "metadata": {},
   "outputs": [
    {
     "data": {
      "text/plain": [
       "array([[1, 1, 1],\n",
       "       [1, 1, 1],\n",
       "       [1, 1, 1]])"
      ]
     },
     "execution_count": 52,
     "metadata": {},
     "output_type": "execute_result"
    }
   ],
   "source": [
    "M3"
   ]
  },
  {
   "cell_type": "markdown",
   "metadata": {},
   "source": [
    "### Para n = 4"
   ]
  },
  {
   "cell_type": "code",
   "execution_count": null,
   "metadata": {},
   "outputs": [
    {
     "name": "stdout",
     "output_type": "stream",
     "text": [
      "Matriz D: \n",
      "[[ 1. -1.  0.  0.]\n",
      " [-1.  2. -1.  0.]\n",
      " [ 0. -1.  2.  0.]\n",
      " [ 0.  0. -1.  1.]] \n",
      " \n",
      "Frequências: [-9.74614466e-17  5.85786438e-01  2.00000000e+00  3.41421356e+00] \n",
      " \n",
      "Modos normais: \n",
      "[[-0.5         0.65328148  0.5        -0.27059805]\n",
      " [-0.5         0.27059805 -0.5         0.65328148]\n",
      " [-0.5        -0.27059805 -0.5        -0.65328148]\n",
      " [-0.5        -0.65328148  0.5         0.27059805]]\n"
     ]
    }
   ],
   "source": [
    "k, m1, m2, m3, m4 = 1, 1, 1, 1, 1 #constantes genéricas\n",
    "\n",
    "M4 = np.vstack([np.full(N, m1),\n",
    "                np.full(N, m2),\n",
    "                np.full(N, m3),\n",
    "                np.full(N, m4)])\n",
    "\n",
    "D4 = np.array([[k/m1, -k/m1,    0,      0],\n",
    "               [-k/m2, 2*k/m2, -k/m2,   0],\n",
    "               [0,    -k/m3,    2*k/m3, 0],\n",
    "               [0,      0,     -k/m4,  k/m4]])\n",
    "valor, vetor = np.linalg.eigh(D4)\n",
    "print(f\"Matriz D: \\n{D4} \\n \\nFrequências: {valor} \\n \\nModos normais: \\n{vetor}\")"
   ]
  },
  {
   "cell_type": "code",
   "execution_count": null,
   "metadata": {},
   "outputs": [
    {
     "data": {
      "text/plain": [
       "array([[1, 1, 1, 1],\n",
       "       [1, 1, 1, 1],\n",
       "       [1, 1, 1, 1],\n",
       "       [1, 1, 1, 1]])"
      ]
     },
     "execution_count": 67,
     "metadata": {},
     "output_type": "execute_result"
    }
   ],
   "source": [
    "N = 4\n",
    "M4"
   ]
  },
  {
   "cell_type": "markdown",
   "metadata": {},
   "source": [
    "### Para n = 4 considerando $2^a$ vizinhança"
   ]
  },
  {
   "cell_type": "code",
   "execution_count": 68,
   "metadata": {},
   "outputs": [
    {
     "name": "stdout",
     "output_type": "stream",
     "text": [
      "Matriz D: \n",
      "[[ 2. -1. -1.  0.]\n",
      " [-1.  3. -1. -1.]\n",
      " [-1. -1.  3. -1.]\n",
      " [ 0. -1. -1.  2.]] \n",
      " \n",
      "Frequências: [-9.64506253e-16  2.00000000e+00  4.00000000e+00  4.00000000e+00] \n",
      " \n",
      "Modos normais: \n",
      "[[-5.00000000e-01  7.07106781e-01  4.97655806e-01 -4.83600990e-02]\n",
      " [-5.00000000e-01 -2.91659768e-17 -5.66047314e-01 -6.55431491e-01]\n",
      " [-5.00000000e-01  3.58693823e-17 -4.29264298e-01  7.52151689e-01]\n",
      " [-5.00000000e-01 -7.07106781e-01  4.97655806e-01 -4.83600990e-02]]\n"
     ]
    }
   ],
   "source": [
    "k1, k2, m1, m2, m3, m4 = 1, 1, 1, 1, 1, 1 #constantes genéricas\n",
    "\n",
    "M4 = np.vstack([np.full(N, m1),\n",
    "                np.full(N, m2),\n",
    "                np.full(N, m3),\n",
    "                np.full(N, m4)])\n",
    "\n",
    "D4_v = np.array([[(k1 + k2)/m1, -k1/m1,    -k2,      0],\n",
    "               [-k/m2, (2*k1 + k2)/m2, -k1/m2,   -k2/m2],\n",
    "               [-k2,    -k/m3,    (2*k1 + k2)/m3, -k1/m3],\n",
    "               [0,      -k2/m4,     -k1/m4,  (k1 + k2)/m4]])\n",
    "valor, vetor = np.linalg.eigh(D4_v)\n",
    "print(f\"Matriz D: \\n{D4_v} \\n \\nFrequências: {valor} \\n \\nModos normais: \\n{vetor}\")"
   ]
  },
  {
   "cell_type": "code",
   "execution_count": null,
   "metadata": {},
   "outputs": [],
   "source": [
    "# A matriz para a cadeia de n massas tem tamanho nxn, \n",
    "D = np.zeros((n, n))\n",
    "# Subsituimos os elementos na matriz nula\n",
    "# para encontrar cada Djj usamos as fórmulas acima\n",
    "\n",
    "      "
   ]
  },
  {
   "cell_type": "code",
   "execution_count": 12,
   "metadata": {},
   "outputs": [
    {
     "name": "stdout",
     "output_type": "stream",
     "text": [
      "[[0. 0.]\n",
      " [0. 0.]]\n"
     ]
    }
   ],
   "source": [
    "print(D)"
   ]
  },
  {
   "cell_type": "code",
   "execution_count": null,
   "metadata": {},
   "outputs": [],
   "source": []
  },
  {
   "cell_type": "code",
   "execution_count": null,
   "metadata": {},
   "outputs": [],
   "source": []
  },
  {
   "cell_type": "markdown",
   "metadata": {},
   "source": [
    "# Teste vpython\n",
    "##### não executa no meu pc :)"
   ]
  },
  {
   "cell_type": "code",
   "execution_count": 1,
   "metadata": {},
   "outputs": [
    {
     "name": "stdout",
     "output_type": "stream",
     "text": [
      "Requirement already satisfied: vpython in /home/iberis/anaconda3/lib/python3.12/site-packages (7.6.5)\n",
      "Requirement already satisfied: jupyter in /home/iberis/anaconda3/lib/python3.12/site-packages (from vpython) (1.0.0)\n",
      "Requirement already satisfied: jupyter-server-proxy in /home/iberis/anaconda3/lib/python3.12/site-packages (from vpython) (4.4.0)\n",
      "Requirement already satisfied: jupyterlab-vpython>=3.1.8 in /home/iberis/anaconda3/lib/python3.12/site-packages (from vpython) (3.1.8)\n",
      "Requirement already satisfied: numpy in /home/iberis/anaconda3/lib/python3.12/site-packages (from vpython) (1.26.4)\n",
      "Requirement already satisfied: ipykernel in /home/iberis/anaconda3/lib/python3.12/site-packages (from vpython) (6.28.0)\n",
      "Requirement already satisfied: autobahn<27,>=22.6.1 in /home/iberis/anaconda3/lib/python3.12/site-packages (from vpython) (24.4.2)\n",
      "Requirement already satisfied: txaio>=21.2.1 in /home/iberis/anaconda3/lib/python3.12/site-packages (from autobahn<27,>=22.6.1->vpython) (25.6.1)\n",
      "Requirement already satisfied: cryptography>=3.4.6 in /home/iberis/anaconda3/lib/python3.12/site-packages (from autobahn<27,>=22.6.1->vpython) (43.0.0)\n",
      "Requirement already satisfied: hyperlink>=21.0.0 in /home/iberis/anaconda3/lib/python3.12/site-packages (from autobahn<27,>=22.6.1->vpython) (21.0.0)\n",
      "Requirement already satisfied: setuptools in /home/iberis/anaconda3/lib/python3.12/site-packages (from autobahn<27,>=22.6.1->vpython) (75.1.0)\n",
      "Requirement already satisfied: comm>=0.1.1 in /home/iberis/anaconda3/lib/python3.12/site-packages (from ipykernel->vpython) (0.2.1)\n",
      "Requirement already satisfied: debugpy>=1.6.5 in /home/iberis/anaconda3/lib/python3.12/site-packages (from ipykernel->vpython) (1.6.7)\n",
      "Requirement already satisfied: ipython>=7.23.1 in /home/iberis/anaconda3/lib/python3.12/site-packages (from ipykernel->vpython) (8.27.0)\n",
      "Requirement already satisfied: jupyter-client>=6.1.12 in /home/iberis/anaconda3/lib/python3.12/site-packages (from ipykernel->vpython) (8.6.0)\n",
      "Requirement already satisfied: jupyter-core!=5.0.*,>=4.12 in /home/iberis/anaconda3/lib/python3.12/site-packages (from ipykernel->vpython) (5.7.2)\n",
      "Requirement already satisfied: matplotlib-inline>=0.1 in /home/iberis/anaconda3/lib/python3.12/site-packages (from ipykernel->vpython) (0.1.6)\n",
      "Requirement already satisfied: nest-asyncio in /home/iberis/anaconda3/lib/python3.12/site-packages (from ipykernel->vpython) (1.6.0)\n",
      "Requirement already satisfied: packaging in /home/iberis/anaconda3/lib/python3.12/site-packages (from ipykernel->vpython) (24.1)\n",
      "Requirement already satisfied: psutil in /home/iberis/anaconda3/lib/python3.12/site-packages (from ipykernel->vpython) (5.9.0)\n",
      "Requirement already satisfied: pyzmq>=24 in /home/iberis/anaconda3/lib/python3.12/site-packages (from ipykernel->vpython) (25.1.2)\n",
      "Requirement already satisfied: tornado>=6.1 in /home/iberis/anaconda3/lib/python3.12/site-packages (from ipykernel->vpython) (6.4.1)\n",
      "Requirement already satisfied: traitlets>=5.4.0 in /home/iberis/anaconda3/lib/python3.12/site-packages (from ipykernel->vpython) (5.14.3)\n",
      "Requirement already satisfied: notebook in /home/iberis/anaconda3/lib/python3.12/site-packages (from jupyter->vpython) (7.2.2)\n",
      "Requirement already satisfied: qtconsole in /home/iberis/anaconda3/lib/python3.12/site-packages (from jupyter->vpython) (5.5.1)\n",
      "Requirement already satisfied: jupyter-console in /home/iberis/anaconda3/lib/python3.12/site-packages (from jupyter->vpython) (6.6.3)\n",
      "Requirement already satisfied: nbconvert in /home/iberis/anaconda3/lib/python3.12/site-packages (from jupyter->vpython) (7.16.4)\n",
      "Requirement already satisfied: ipywidgets in /home/iberis/anaconda3/lib/python3.12/site-packages (from jupyter->vpython) (7.8.1)\n",
      "Requirement already satisfied: aiohttp in /home/iberis/anaconda3/lib/python3.12/site-packages (from jupyter-server-proxy->vpython) (3.10.5)\n",
      "Requirement already satisfied: jupyter-server>=1.24.0 in /home/iberis/anaconda3/lib/python3.12/site-packages (from jupyter-server-proxy->vpython) (2.14.1)\n",
      "Requirement already satisfied: simpervisor>=1.0.0 in /home/iberis/anaconda3/lib/python3.12/site-packages (from jupyter-server-proxy->vpython) (1.0.0)\n",
      "Requirement already satisfied: cffi>=1.12 in /home/iberis/anaconda3/lib/python3.12/site-packages (from cryptography>=3.4.6->autobahn<27,>=22.6.1->vpython) (1.17.1)\n",
      "Requirement already satisfied: idna>=2.5 in /home/iberis/anaconda3/lib/python3.12/site-packages (from hyperlink>=21.0.0->autobahn<27,>=22.6.1->vpython) (3.7)\n",
      "Requirement already satisfied: decorator in /home/iberis/anaconda3/lib/python3.12/site-packages (from ipython>=7.23.1->ipykernel->vpython) (5.1.1)\n",
      "Requirement already satisfied: jedi>=0.16 in /home/iberis/anaconda3/lib/python3.12/site-packages (from ipython>=7.23.1->ipykernel->vpython) (0.19.1)\n",
      "Requirement already satisfied: prompt-toolkit<3.1.0,>=3.0.41 in /home/iberis/anaconda3/lib/python3.12/site-packages (from ipython>=7.23.1->ipykernel->vpython) (3.0.43)\n",
      "Requirement already satisfied: pygments>=2.4.0 in /home/iberis/anaconda3/lib/python3.12/site-packages (from ipython>=7.23.1->ipykernel->vpython) (2.15.1)\n",
      "Requirement already satisfied: stack-data in /home/iberis/anaconda3/lib/python3.12/site-packages (from ipython>=7.23.1->ipykernel->vpython) (0.2.0)\n",
      "Requirement already satisfied: pexpect>4.3 in /home/iberis/anaconda3/lib/python3.12/site-packages (from ipython>=7.23.1->ipykernel->vpython) (4.8.0)\n",
      "Requirement already satisfied: python-dateutil>=2.8.2 in /home/iberis/anaconda3/lib/python3.12/site-packages (from jupyter-client>=6.1.12->ipykernel->vpython) (2.9.0.post0)\n",
      "Requirement already satisfied: platformdirs>=2.5 in /home/iberis/anaconda3/lib/python3.12/site-packages (from jupyter-core!=5.0.*,>=4.12->ipykernel->vpython) (3.10.0)\n",
      "Requirement already satisfied: anyio>=3.1.0 in /home/iberis/anaconda3/lib/python3.12/site-packages (from jupyter-server>=1.24.0->jupyter-server-proxy->vpython) (4.2.0)\n",
      "Requirement already satisfied: argon2-cffi>=21.1 in /home/iberis/anaconda3/lib/python3.12/site-packages (from jupyter-server>=1.24.0->jupyter-server-proxy->vpython) (21.3.0)\n",
      "Requirement already satisfied: jinja2>=3.0.3 in /home/iberis/anaconda3/lib/python3.12/site-packages (from jupyter-server>=1.24.0->jupyter-server-proxy->vpython) (3.1.4)\n",
      "Requirement already satisfied: jupyter-events>=0.9.0 in /home/iberis/anaconda3/lib/python3.12/site-packages (from jupyter-server>=1.24.0->jupyter-server-proxy->vpython) (0.10.0)\n",
      "Requirement already satisfied: jupyter-server-terminals>=0.4.4 in /home/iberis/anaconda3/lib/python3.12/site-packages (from jupyter-server>=1.24.0->jupyter-server-proxy->vpython) (0.4.4)\n",
      "Requirement already satisfied: nbformat>=5.3.0 in /home/iberis/anaconda3/lib/python3.12/site-packages (from jupyter-server>=1.24.0->jupyter-server-proxy->vpython) (5.10.4)\n",
      "Requirement already satisfied: overrides>=5.0 in /home/iberis/anaconda3/lib/python3.12/site-packages (from jupyter-server>=1.24.0->jupyter-server-proxy->vpython) (7.4.0)\n",
      "Requirement already satisfied: prometheus-client>=0.9 in /home/iberis/anaconda3/lib/python3.12/site-packages (from jupyter-server>=1.24.0->jupyter-server-proxy->vpython) (0.14.1)\n",
      "Requirement already satisfied: send2trash>=1.8.2 in /home/iberis/anaconda3/lib/python3.12/site-packages (from jupyter-server>=1.24.0->jupyter-server-proxy->vpython) (1.8.2)\n",
      "Requirement already satisfied: terminado>=0.8.3 in /home/iberis/anaconda3/lib/python3.12/site-packages (from jupyter-server>=1.24.0->jupyter-server-proxy->vpython) (0.17.1)\n",
      "Requirement already satisfied: websocket-client>=1.7 in /home/iberis/anaconda3/lib/python3.12/site-packages (from jupyter-server>=1.24.0->jupyter-server-proxy->vpython) (1.8.0)\n",
      "Requirement already satisfied: beautifulsoup4 in /home/iberis/anaconda3/lib/python3.12/site-packages (from nbconvert->jupyter->vpython) (4.12.3)\n",
      "Requirement already satisfied: bleach!=5.0.0 in /home/iberis/anaconda3/lib/python3.12/site-packages (from nbconvert->jupyter->vpython) (4.1.0)\n",
      "Requirement already satisfied: defusedxml in /home/iberis/anaconda3/lib/python3.12/site-packages (from nbconvert->jupyter->vpython) (0.7.1)\n",
      "Requirement already satisfied: jupyterlab-pygments in /home/iberis/anaconda3/lib/python3.12/site-packages (from nbconvert->jupyter->vpython) (0.1.2)\n",
      "Requirement already satisfied: markupsafe>=2.0 in /home/iberis/anaconda3/lib/python3.12/site-packages (from nbconvert->jupyter->vpython) (2.1.3)\n",
      "Requirement already satisfied: mistune<4,>=2.0.3 in /home/iberis/anaconda3/lib/python3.12/site-packages (from nbconvert->jupyter->vpython) (2.0.4)\n",
      "Requirement already satisfied: nbclient>=0.5.0 in /home/iberis/anaconda3/lib/python3.12/site-packages (from nbconvert->jupyter->vpython) (0.8.0)\n",
      "Requirement already satisfied: pandocfilters>=1.4.1 in /home/iberis/anaconda3/lib/python3.12/site-packages (from nbconvert->jupyter->vpython) (1.5.0)\n",
      "Requirement already satisfied: tinycss2 in /home/iberis/anaconda3/lib/python3.12/site-packages (from nbconvert->jupyter->vpython) (1.2.1)\n",
      "Requirement already satisfied: aiohappyeyeballs>=2.3.0 in /home/iberis/anaconda3/lib/python3.12/site-packages (from aiohttp->jupyter-server-proxy->vpython) (2.4.0)\n",
      "Requirement already satisfied: aiosignal>=1.1.2 in /home/iberis/anaconda3/lib/python3.12/site-packages (from aiohttp->jupyter-server-proxy->vpython) (1.2.0)\n",
      "Requirement already satisfied: attrs>=17.3.0 in /home/iberis/anaconda3/lib/python3.12/site-packages (from aiohttp->jupyter-server-proxy->vpython) (23.1.0)\n",
      "Requirement already satisfied: frozenlist>=1.1.1 in /home/iberis/anaconda3/lib/python3.12/site-packages (from aiohttp->jupyter-server-proxy->vpython) (1.4.0)\n",
      "Requirement already satisfied: multidict<7.0,>=4.5 in /home/iberis/anaconda3/lib/python3.12/site-packages (from aiohttp->jupyter-server-proxy->vpython) (6.0.4)\n",
      "Requirement already satisfied: yarl<2.0,>=1.0 in /home/iberis/anaconda3/lib/python3.12/site-packages (from aiohttp->jupyter-server-proxy->vpython) (1.11.0)\n",
      "Requirement already satisfied: ipython-genutils~=0.2.0 in /home/iberis/anaconda3/lib/python3.12/site-packages (from ipywidgets->jupyter->vpython) (0.2.0)\n",
      "Requirement already satisfied: widgetsnbextension~=3.6.6 in /home/iberis/anaconda3/lib/python3.12/site-packages (from ipywidgets->jupyter->vpython) (3.6.6)\n",
      "Requirement already satisfied: jupyterlab-widgets<3,>=1.0.0 in /home/iberis/anaconda3/lib/python3.12/site-packages (from ipywidgets->jupyter->vpython) (1.0.0)\n",
      "Requirement already satisfied: jupyterlab-server<3,>=2.27.1 in /home/iberis/anaconda3/lib/python3.12/site-packages (from notebook->jupyter->vpython) (2.27.3)\n",
      "Requirement already satisfied: jupyterlab<4.3,>=4.2.0 in /home/iberis/anaconda3/lib/python3.12/site-packages (from notebook->jupyter->vpython) (4.2.5)\n",
      "Requirement already satisfied: notebook-shim<0.3,>=0.2 in /home/iberis/anaconda3/lib/python3.12/site-packages (from notebook->jupyter->vpython) (0.2.3)\n",
      "Requirement already satisfied: qtpy>=2.4.0 in /home/iberis/anaconda3/lib/python3.12/site-packages (from qtconsole->jupyter->vpython) (2.4.1)\n",
      "Requirement already satisfied: sniffio>=1.1 in /home/iberis/anaconda3/lib/python3.12/site-packages (from anyio>=3.1.0->jupyter-server>=1.24.0->jupyter-server-proxy->vpython) (1.3.0)\n",
      "Requirement already satisfied: argon2-cffi-bindings in /home/iberis/anaconda3/lib/python3.12/site-packages (from argon2-cffi>=21.1->jupyter-server>=1.24.0->jupyter-server-proxy->vpython) (21.2.0)\n",
      "Requirement already satisfied: six>=1.9.0 in /home/iberis/anaconda3/lib/python3.12/site-packages (from bleach!=5.0.0->nbconvert->jupyter->vpython) (1.16.0)\n",
      "Requirement already satisfied: webencodings in /home/iberis/anaconda3/lib/python3.12/site-packages (from bleach!=5.0.0->nbconvert->jupyter->vpython) (0.5.1)\n",
      "Requirement already satisfied: pycparser in /home/iberis/anaconda3/lib/python3.12/site-packages (from cffi>=1.12->cryptography>=3.4.6->autobahn<27,>=22.6.1->vpython) (2.21)\n",
      "Requirement already satisfied: parso<0.9.0,>=0.8.3 in /home/iberis/anaconda3/lib/python3.12/site-packages (from jedi>=0.16->ipython>=7.23.1->ipykernel->vpython) (0.8.3)\n",
      "Requirement already satisfied: jsonschema>=4.18.0 in /home/iberis/anaconda3/lib/python3.12/site-packages (from jsonschema[format-nongpl]>=4.18.0->jupyter-events>=0.9.0->jupyter-server>=1.24.0->jupyter-server-proxy->vpython) (4.23.0)\n",
      "Requirement already satisfied: python-json-logger>=2.0.4 in /home/iberis/anaconda3/lib/python3.12/site-packages (from jupyter-events>=0.9.0->jupyter-server>=1.24.0->jupyter-server-proxy->vpython) (2.0.7)\n",
      "Requirement already satisfied: pyyaml>=5.3 in /home/iberis/anaconda3/lib/python3.12/site-packages (from jupyter-events>=0.9.0->jupyter-server>=1.24.0->jupyter-server-proxy->vpython) (6.0.1)\n",
      "Requirement already satisfied: referencing in /home/iberis/anaconda3/lib/python3.12/site-packages (from jupyter-events>=0.9.0->jupyter-server>=1.24.0->jupyter-server-proxy->vpython) (0.30.2)\n",
      "Requirement already satisfied: rfc3339-validator in /home/iberis/anaconda3/lib/python3.12/site-packages (from jupyter-events>=0.9.0->jupyter-server>=1.24.0->jupyter-server-proxy->vpython) (0.1.4)\n",
      "Requirement already satisfied: rfc3986-validator>=0.1.1 in /home/iberis/anaconda3/lib/python3.12/site-packages (from jupyter-events>=0.9.0->jupyter-server>=1.24.0->jupyter-server-proxy->vpython) (0.1.1)\n",
      "Requirement already satisfied: async-lru>=1.0.0 in /home/iberis/anaconda3/lib/python3.12/site-packages (from jupyterlab<4.3,>=4.2.0->notebook->jupyter->vpython) (2.0.4)\n",
      "Requirement already satisfied: httpx>=0.25.0 in /home/iberis/anaconda3/lib/python3.12/site-packages (from jupyterlab<4.3,>=4.2.0->notebook->jupyter->vpython) (0.27.0)\n",
      "Requirement already satisfied: jupyter-lsp>=2.0.0 in /home/iberis/anaconda3/lib/python3.12/site-packages (from jupyterlab<4.3,>=4.2.0->notebook->jupyter->vpython) (2.2.0)\n",
      "Requirement already satisfied: babel>=2.10 in /home/iberis/anaconda3/lib/python3.12/site-packages (from jupyterlab-server<3,>=2.27.1->notebook->jupyter->vpython) (2.11.0)\n",
      "Requirement already satisfied: json5>=0.9.0 in /home/iberis/anaconda3/lib/python3.12/site-packages (from jupyterlab-server<3,>=2.27.1->notebook->jupyter->vpython) (0.9.6)\n",
      "Requirement already satisfied: requests>=2.31 in /home/iberis/anaconda3/lib/python3.12/site-packages (from jupyterlab-server<3,>=2.27.1->notebook->jupyter->vpython) (2.32.3)\n",
      "Requirement already satisfied: fastjsonschema>=2.15 in /home/iberis/anaconda3/lib/python3.12/site-packages (from nbformat>=5.3.0->jupyter-server>=1.24.0->jupyter-server-proxy->vpython) (2.16.2)\n",
      "Requirement already satisfied: ptyprocess>=0.5 in /home/iberis/anaconda3/lib/python3.12/site-packages (from pexpect>4.3->ipython>=7.23.1->ipykernel->vpython) (0.7.0)\n",
      "Requirement already satisfied: wcwidth in /home/iberis/anaconda3/lib/python3.12/site-packages (from prompt-toolkit<3.1.0,>=3.0.41->ipython>=7.23.1->ipykernel->vpython) (0.2.5)\n",
      "Requirement already satisfied: soupsieve>1.2 in /home/iberis/anaconda3/lib/python3.12/site-packages (from beautifulsoup4->nbconvert->jupyter->vpython) (2.5)\n",
      "Requirement already satisfied: executing in /home/iberis/anaconda3/lib/python3.12/site-packages (from stack-data->ipython>=7.23.1->ipykernel->vpython) (0.8.3)\n",
      "Requirement already satisfied: asttokens in /home/iberis/anaconda3/lib/python3.12/site-packages (from stack-data->ipython>=7.23.1->ipykernel->vpython) (2.0.5)\n",
      "Requirement already satisfied: pure-eval in /home/iberis/anaconda3/lib/python3.12/site-packages (from stack-data->ipython>=7.23.1->ipykernel->vpython) (0.2.2)\n",
      "Requirement already satisfied: pytz>=2015.7 in /home/iberis/anaconda3/lib/python3.12/site-packages (from babel>=2.10->jupyterlab-server<3,>=2.27.1->notebook->jupyter->vpython) (2024.1)\n",
      "Requirement already satisfied: certifi in /home/iberis/anaconda3/lib/python3.12/site-packages (from httpx>=0.25.0->jupyterlab<4.3,>=4.2.0->notebook->jupyter->vpython) (2024.8.30)\n",
      "Requirement already satisfied: httpcore==1.* in /home/iberis/anaconda3/lib/python3.12/site-packages (from httpx>=0.25.0->jupyterlab<4.3,>=4.2.0->notebook->jupyter->vpython) (1.0.2)\n",
      "Requirement already satisfied: h11<0.15,>=0.13 in /home/iberis/anaconda3/lib/python3.12/site-packages (from httpcore==1.*->httpx>=0.25.0->jupyterlab<4.3,>=4.2.0->notebook->jupyter->vpython) (0.14.0)\n",
      "Requirement already satisfied: jsonschema-specifications>=2023.03.6 in /home/iberis/anaconda3/lib/python3.12/site-packages (from jsonschema>=4.18.0->jsonschema[format-nongpl]>=4.18.0->jupyter-events>=0.9.0->jupyter-server>=1.24.0->jupyter-server-proxy->vpython) (2023.7.1)\n",
      "Requirement already satisfied: rpds-py>=0.7.1 in /home/iberis/anaconda3/lib/python3.12/site-packages (from jsonschema>=4.18.0->jsonschema[format-nongpl]>=4.18.0->jupyter-events>=0.9.0->jupyter-server>=1.24.0->jupyter-server-proxy->vpython) (0.10.6)\n",
      "Requirement already satisfied: fqdn in /home/iberis/anaconda3/lib/python3.12/site-packages (from jsonschema[format-nongpl]>=4.18.0->jupyter-events>=0.9.0->jupyter-server>=1.24.0->jupyter-server-proxy->vpython) (1.5.1)\n",
      "Requirement already satisfied: isoduration in /home/iberis/anaconda3/lib/python3.12/site-packages (from jsonschema[format-nongpl]>=4.18.0->jupyter-events>=0.9.0->jupyter-server>=1.24.0->jupyter-server-proxy->vpython) (20.11.0)\n",
      "Requirement already satisfied: jsonpointer>1.13 in /home/iberis/anaconda3/lib/python3.12/site-packages (from jsonschema[format-nongpl]>=4.18.0->jupyter-events>=0.9.0->jupyter-server>=1.24.0->jupyter-server-proxy->vpython) (2.1)\n",
      "Requirement already satisfied: uri-template in /home/iberis/anaconda3/lib/python3.12/site-packages (from jsonschema[format-nongpl]>=4.18.0->jupyter-events>=0.9.0->jupyter-server>=1.24.0->jupyter-server-proxy->vpython) (1.3.0)\n",
      "Requirement already satisfied: webcolors>=24.6.0 in /home/iberis/anaconda3/lib/python3.12/site-packages (from jsonschema[format-nongpl]>=4.18.0->jupyter-events>=0.9.0->jupyter-server>=1.24.0->jupyter-server-proxy->vpython) (24.11.1)\n",
      "Requirement already satisfied: charset-normalizer<4,>=2 in /home/iberis/anaconda3/lib/python3.12/site-packages (from requests>=2.31->jupyterlab-server<3,>=2.27.1->notebook->jupyter->vpython) (3.3.2)\n",
      "Requirement already satisfied: urllib3<3,>=1.21.1 in /home/iberis/anaconda3/lib/python3.12/site-packages (from requests>=2.31->jupyterlab-server<3,>=2.27.1->notebook->jupyter->vpython) (2.2.3)\n",
      "Requirement already satisfied: arrow>=0.15.0 in /home/iberis/anaconda3/lib/python3.12/site-packages (from isoduration->jsonschema[format-nongpl]>=4.18.0->jupyter-events>=0.9.0->jupyter-server>=1.24.0->jupyter-server-proxy->vpython) (1.2.3)\n",
      "Note: you may need to restart the kernel to use updated packages.\n"
     ]
    }
   ],
   "source": [
    "%pip install vpython\n",
    "%load_ext autoreload\n",
    "%autoreload 2"
   ]
  },
  {
   "cell_type": "code",
   "execution_count": null,
   "metadata": {},
   "outputs": [],
   "source": [
    "from vpython import *\n",
    "c2 = canvas(width=800, height=500, background=color.black, title='A second canvas')\n",
    "bola = sphere(pos=vector(-5,0,0), radius=0.5, color=color.red, velocity=vector(10,0,0))\n",
    "muro = box(pos=vector(0,0,0), size=vector(1,50,1), color=color.blue, axis=vector(0,0,0))\n",
    "pointer = arrow(pos=vector(bola.pos.x,0,0), axis=vector(10,0,0))\n",
    "f1=gcurve(color=color.red)\n",
    "v1 = gcurve(color=color.cyan)\n",
    "dt=0.01\n",
    "t=0\n",
    "while t<3:\n",
    "    rate(100)\n",
    "    bola.pos.x=bola.pos.x+bola.velocity.x*dt\n",
    "    t=t+dt\n",
    "    pointer.pos.x=bola.pos.x\n",
    "\n",
    "    if(bola.pos.x>=muro.pos.x):\n",
    "        bola.velocity.x=-bola.velocity.x\n",
    "        pointer.axis.x=bola.velocity.x\n",
    "    v1.plot(t, bola.velocity.x)\n",
    "    f1.plot(t, bola.pos.x)\n"
   ]
  },
  {
   "cell_type": "code",
   "execution_count": null,
   "metadata": {},
   "outputs": [],
   "source": [
    "from vpython import *\n",
    "\n",
    "def deslocar(corpo):\n",
    "     global dt\n",
    "     queda = True\n",
    "     p = corpo.traj.point(corpo.traj.npoints-1)['pos']\n",
    "     corpo.pos += dt*corpo.v + dt**2*corpo.a/2.\n",
    "     if corpo.v.y < 0 and corpo.pos.y < corpo.radius:\n",
    "         if p.y != corpo.pos.y:\n",
    "             f = (p.y - corpo.radius)/(p.y - corpo.pos.y)\n",
    "             corpo.pos -= (1 - f)*(corpo.pos - p)\n",
    "             corpo.v += f*dt*corpo.a\n",
    "             corpo.t += f*dt\n",
    "         queda = False\n",
    "     else:\n",
    "         corpo.t += dt\n",
    "         corpo.v += dt*corpo.a\n",
    "     corpo.traj.append(pos=vec(corpo.pos))\n",
    "     corpo.d += mag(corpo.pos - p)\n",
    "     return queda\n",
    "\n",
    "def resultados(corpo):\n",
    "     p0 = corpo.traj.point(0)['pos']\n",
    "     alcance = corpo.pos.x - p0.x\n",
    "     velocidade = corpo.d / corpo.t\n",
    "     scene.caption += '<b>'+corpo.legenda+'</b>\\n'\n",
    "     scene.caption += 'Tempo de voo         = {:.2f} s\\n'.format(corpo.t)\n",
    "     scene.caption += 'Alcance horizontal   = {:.2f} m\\n'.format(alcance)\n",
    "     scene.caption += 'Distância percorrida = {:.2f} m\\n'.format(corpo.d)\n",
    "     scene.caption += 'Velocidade média     = {:.2f} m/s\\n'.format(velocidade)\n",
    "     return\n",
    "\n",
    "def projetar(corpo, vel, ang, leg):\n",
    "     corpo.v = vel*vec(cos(ang*pi/180.), sin(ang*pi/180.), 0)\n",
    "     corpo.t = corpo.d = 0\n",
    "     corpo.legenda = leg\n",
    "     corpo.traj = curve(pos=vec(corpo.pos),color=corpo.color)\n",
    "\n",
    "scene = canvas(title = '<h1>Lançamento de projéteis no ar</h1>',\n",
    "                forward=vec(-0.5,-0.2,-1))\n",
    "scene.caption = ''\n",
    "a = 47.\n",
    "dt = 0.01\n",
    "g = vec(0,-9.8,0)\n",
    "q1 = q2 = q3 = True\n",
    "\n",
    "bola1 = sphere(pos=vec(-7.5,0.2,1), radius=0.4, color=vec(0.93,1,0.16))\n",
    "bola2 = sphere(pos=vec(-7.5,0.1,0), radius=0.2, color=vec(1,0,0))\n",
    "bola3 = sphere(pos=vec(-7.5,0.1,-1), radius=0.2, color=vec(1,0.49,0.05))\n",
    "chao = box(pos=vec(0,-0.1,0), size=vec(16,0.2,10), texture=textures.wood)\n",
    "parede = box(pos=vec(0,2.8,-5.05),size=vec(16,6,0.1), color=vec(0.7,0.7,0.7))\n",
    "sitio = text(pos=vec(0,2.8,-5), text='def.fe.up.pt', color=color.blue,\n",
    "              align='center', depth=0)\n",
    "projetar (bola1, 12, 45., 'Bola de ténis')\n",
    "projetar (bola2, 12, 45., 'Sem resistência do ar')\n",
    "projetar (bola3, 12, 45., 'Bola de ping-pong')\n",
    "bola2.a = g\n",
    "\n",
    "while q1 or q2 or q3:\n",
    "    rate(100)\n",
    "    bola1.a = g - 0.01606*mag(bola1.v)*bola1.v\n",
    "    bola3.a = g - 0.14176*mag(bola3.v)*bola3.v\n",
    "    if q1: q1 = deslocar (bola1)\n",
    "    if q2: q2 = deslocar (bola2)\n",
    "    if q3: q3 = deslocar (bola3)\n",
    "\n",
    "resultados(bola2)\n",
    "resultados(bola1)\n",
    "resultados(bola3)"
   ]
  }
 ],
 "metadata": {
  "kernelspec": {
   "display_name": "base",
   "language": "python",
   "name": "python3"
  },
  "language_info": {
   "codemirror_mode": {
    "name": "ipython",
    "version": 3
   },
   "file_extension": ".py",
   "mimetype": "text/x-python",
   "name": "python",
   "nbconvert_exporter": "python",
   "pygments_lexer": "ipython3",
   "version": "3.12.7"
  }
 },
 "nbformat": 4,
 "nbformat_minor": 2
}
